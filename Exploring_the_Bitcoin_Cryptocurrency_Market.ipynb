{
  "nbformat": 4,
  "nbformat_minor": 0,
  "metadata": {
    "colab": {
      "name": "Exploring the Bitcoin Cryptocurrency Market.ipynb",
      "provenance": [],
      "authorship_tag": "ABX9TyMh0IshZ9DOJfHlsTtWfMSA",
      "include_colab_link": true
    },
    "kernelspec": {
      "name": "python3",
      "display_name": "Python 3"
    },
    "language_info": {
      "name": "python"
    }
  },
  "cells": [
    {
      "cell_type": "markdown",
      "metadata": {
        "id": "view-in-github",
        "colab_type": "text"
      },
      "source": [
        "<a href=\"https://colab.research.google.com/github/rjrahul24/crypto-market-eda/blob/main/Exploring_the_Bitcoin_Cryptocurrency_Market.ipynb\" target=\"_parent\"><img src=\"https://colab.research.google.com/assets/colab-badge.svg\" alt=\"Open In Colab\"/></a>"
      ]
    },
    {
      "cell_type": "markdown",
      "metadata": {
        "id": "mHVMLFE5rcxn"
      },
      "source": [
        "**BITCOIN AND CRYPTOCURRENCIES**\n",
        "\n",
        "Since the launch of Bitcoin in 2008, hundreds of similar projects based on the blockchain technology have emerged. We call these cryptocurrencies (also coins or cryptos in the Internet slang). Some are extremely valuable nowadays, and others may have the potential to become extremely valuable in the future1. In fact, on the 6th of December of 2017, Bitcoin has a market capitalization above $200 billion."
      ]
    },
    {
      "cell_type": "code",
      "metadata": {
        "colab": {
          "base_uri": "https://localhost:8080/"
        },
        "id": "BUa3ACksrQYQ",
        "outputId": "5f9f54cf-57fb-4edb-f6c9-6b9d856ccaab"
      },
      "source": [
        "# Importing pandas\n",
        "import pandas as pd\n",
        "\n",
        "# Importing matplotlib and setting aesthetics for plotting later.\n",
        "import matplotlib.pyplot as plt\n",
        "%matplotlib inline\n",
        "%config InlineBackend.figure_format = 'svg' \n",
        "plt.style.use('fivethirtyeight')\n",
        "\n",
        "# Reading datasets/coinmarketcap_06122017.csv into pandas\n",
        "dec6 = pd.read_csv(\"https://raw.githubusercontent.com/rjrahul24/crypto-market-eda/main/crypto-market-data/coinmarketcap_06122017.csv\")\n",
        "\n",
        "# Selecting the 'id' and the 'market_cap_usd' columns\n",
        "market_cap_raw = dec6[[\"id\",\"market_cap_usd\"]]\n",
        "\n",
        "# Counting the number of values\n",
        "market_cap_raw.count()"
      ],
      "execution_count": 2,
      "outputs": [
        {
          "output_type": "execute_result",
          "data": {
            "text/plain": [
              "id                1326\n",
              "market_cap_usd    1031\n",
              "dtype: int64"
            ]
          },
          "metadata": {
            "tags": []
          },
          "execution_count": 2
        }
      ]
    },
    {
      "cell_type": "markdown",
      "metadata": {
        "id": "cPBWOEJttrVj"
      },
      "source": [
        "**Discard the cryptocurrencies without a market capitalization**\n",
        "\n",
        "Why do the count() for id and market_cap_usd differ above? It is because some cryptocurrencies listed in coinmarketcap.com have no known market capitalization, this is represented by NaN in the data, and NaNs are not counted by count(). These cryptocurrencies are of little interest to us in this analysis, so they are safe to remove."
      ]
    },
    {
      "cell_type": "code",
      "metadata": {
        "id": "aKCtlD5WtL4z",
        "outputId": "e77daebc-a503-4b09-d3c7-f597dde82dd0",
        "colab": {
          "base_uri": "https://localhost:8080/",
          "height": 197
        }
      },
      "source": [
        "market_cap_raw.head()"
      ],
      "execution_count": 3,
      "outputs": [
        {
          "output_type": "execute_result",
          "data": {
            "text/html": [
              "<div>\n",
              "<style scoped>\n",
              "    .dataframe tbody tr th:only-of-type {\n",
              "        vertical-align: middle;\n",
              "    }\n",
              "\n",
              "    .dataframe tbody tr th {\n",
              "        vertical-align: top;\n",
              "    }\n",
              "\n",
              "    .dataframe thead th {\n",
              "        text-align: right;\n",
              "    }\n",
              "</style>\n",
              "<table border=\"1\" class=\"dataframe\">\n",
              "  <thead>\n",
              "    <tr style=\"text-align: right;\">\n",
              "      <th></th>\n",
              "      <th>id</th>\n",
              "      <th>market_cap_usd</th>\n",
              "    </tr>\n",
              "  </thead>\n",
              "  <tbody>\n",
              "    <tr>\n",
              "      <th>0</th>\n",
              "      <td>bitcoin</td>\n",
              "      <td>2.130493e+11</td>\n",
              "    </tr>\n",
              "    <tr>\n",
              "      <th>1</th>\n",
              "      <td>ethereum</td>\n",
              "      <td>4.352945e+10</td>\n",
              "    </tr>\n",
              "    <tr>\n",
              "      <th>2</th>\n",
              "      <td>bitcoin-cash</td>\n",
              "      <td>2.529585e+10</td>\n",
              "    </tr>\n",
              "    <tr>\n",
              "      <th>3</th>\n",
              "      <td>iota</td>\n",
              "      <td>1.475225e+10</td>\n",
              "    </tr>\n",
              "    <tr>\n",
              "      <th>4</th>\n",
              "      <td>ripple</td>\n",
              "      <td>9.365343e+09</td>\n",
              "    </tr>\n",
              "  </tbody>\n",
              "</table>\n",
              "</div>"
            ],
            "text/plain": [
              "             id  market_cap_usd\n",
              "0       bitcoin    2.130493e+11\n",
              "1      ethereum    4.352945e+10\n",
              "2  bitcoin-cash    2.529585e+10\n",
              "3          iota    1.475225e+10\n",
              "4        ripple    9.365343e+09"
            ]
          },
          "metadata": {
            "tags": []
          },
          "execution_count": 3
        }
      ]
    },
    {
      "cell_type": "code",
      "metadata": {
        "id": "CosouYFFuUJF",
        "outputId": "c442a057-2588-4879-e81c-a8a2a541cf1b",
        "colab": {
          "base_uri": "https://localhost:8080/"
        }
      },
      "source": [
        "# Filtering out rows without a market capitalization\n",
        "cap = market_cap_raw.query('market_cap_usd > 0')\n",
        "\n",
        "# Counting the number of values again\n",
        "cap.count()"
      ],
      "execution_count": 7,
      "outputs": [
        {
          "output_type": "execute_result",
          "data": {
            "text/plain": [
              "id                1031\n",
              "market_cap_usd    1031\n",
              "dtype: int64"
            ]
          },
          "metadata": {
            "tags": []
          },
          "execution_count": 7
        }
      ]
    },
    {
      "cell_type": "markdown",
      "metadata": {
        "id": "ZGqByLN1u9_X"
      },
      "source": [
        "**How big is Bitcoin compared with the rest of the cryptocurrencies?**\n",
        "\n",
        "At the time of writing, Bitcoin is under serious competition from other projects, but it is still dominant in market capitalization. Let's plot the market capitalization for the top 10 coins as a barplot to better visualize this."
      ]
    },
    {
      "cell_type": "code",
      "metadata": {
        "id": "vdHxqwowui2Q"
      },
      "source": [
        ""
      ],
      "execution_count": null,
      "outputs": []
    }
  ]
}