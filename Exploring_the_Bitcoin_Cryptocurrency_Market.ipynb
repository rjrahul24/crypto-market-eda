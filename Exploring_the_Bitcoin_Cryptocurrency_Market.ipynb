{
  "nbformat": 4,
  "nbformat_minor": 0,
  "metadata": {
    "colab": {
      "name": "Exploring the Bitcoin Cryptocurrency Market.ipynb",
      "provenance": [],
      "authorship_tag": "ABX9TyMQSeULRY0y7KYubd5W2hRz",
      "include_colab_link": true
    },
    "kernelspec": {
      "name": "python3",
      "display_name": "Python 3"
    },
    "language_info": {
      "name": "python"
    }
  },
  "cells": [
    {
      "cell_type": "markdown",
      "metadata": {
        "id": "view-in-github",
        "colab_type": "text"
      },
      "source": [
        "<a href=\"https://colab.research.google.com/github/rjrahul24/crypto-market-eda/blob/main/Exploring_the_Bitcoin_Cryptocurrency_Market.ipynb\" target=\"_parent\"><img src=\"https://colab.research.google.com/assets/colab-badge.svg\" alt=\"Open In Colab\"/></a>"
      ]
    },
    {
      "cell_type": "markdown",
      "metadata": {
        "id": "mHVMLFE5rcxn"
      },
      "source": [
        "**BITCOIN AND CRYPTOCURRENCIES**\n",
        "\n",
        "Since the launch of Bitcoin in 2008, hundreds of similar projects based on the blockchain technology have emerged. We call these cryptocurrencies (also coins or cryptos in the Internet slang). Some are extremely valuable nowadays, and others may have the potential to become extremely valuable in the future1. In fact, on the 6th of December of 2017, Bitcoin has a market capitalization above $200 billion."
      ]
    },
    {
      "cell_type": "code",
      "metadata": {
        "colab": {
          "base_uri": "https://localhost:8080/"
        },
        "id": "BUa3ACksrQYQ",
        "outputId": "65fd5a22-4900-4d4a-a7bc-0f4b6784b17f"
      },
      "source": [
        "# Importing pandas\n",
        "import pandas as pd\n",
        "\n",
        "# Importing matplotlib and setting aesthetics for plotting later.\n",
        "import matplotlib.pyplot as plt\n",
        "%matplotlib inline\n",
        "%config InlineBackend.figure_format = 'svg' \n",
        "plt.style.use('fivethirtyeight')\n",
        "\n",
        "# Reading datasets/coinmarketcap_06122017.csv into pandas\n",
        "dec6 = pd.read_csv(\"https://raw.githubusercontent.com/rjrahul24/crypto-market-eda/main/crypto-market-data/coinmarketcap_06122017.csv\")\n",
        "\n",
        "# Selecting the 'id' and the 'market_cap_usd' columns\n",
        "market_cap_raw = dec6[[\"id\",\"market_cap_usd\"]]\n",
        "\n",
        "# Counting the number of values\n",
        "market_cap_raw.count()"
      ],
      "execution_count": 1,
      "outputs": [
        {
          "output_type": "execute_result",
          "data": {
            "text/plain": [
              "id                1326\n",
              "market_cap_usd    1031\n",
              "dtype: int64"
            ]
          },
          "metadata": {
            "tags": []
          },
          "execution_count": 1
        }
      ]
    },
    {
      "cell_type": "code",
      "metadata": {
        "id": "aKCtlD5WtL4z"
      },
      "source": [
        ""
      ],
      "execution_count": null,
      "outputs": []
    }
  ]
}